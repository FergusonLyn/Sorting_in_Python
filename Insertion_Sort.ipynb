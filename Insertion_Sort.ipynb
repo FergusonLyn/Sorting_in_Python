{
 "cells": [
  {
   "cell_type": "code",
   "execution_count": 1,
   "id": "55af60d7",
   "metadata": {},
   "outputs": [],
   "source": [
    "#Trying out an insertion sort"
   ]
  },
  {
   "cell_type": "code",
   "execution_count": 19,
   "id": "d583d873",
   "metadata": {},
   "outputs": [],
   "source": [
    "def insertion_sort(A):\n",
    "    for i in range(1, len(A)):\n",
    "        for j in range(i, 0, -1):\n",
    "            if A[j] < A[j - 1]:\n",
    "                A[j], A[j - 1] = A[j - 1], A[j]\n",
    "            else:\n",
    "                break\n",
    "    print(A)\n"
   ]
  },
  {
   "cell_type": "code",
   "execution_count": 20,
   "id": "a4e7fcfa",
   "metadata": {},
   "outputs": [
    {
     "name": "stdout",
     "output_type": "stream",
     "text": [
      "[0, 1, 3, 5, 7, 22, 44, 66, 83]\n"
     ]
    }
   ],
   "source": [
    "A = [22,1,3,5,7,44,66,83,0]\n",
    "insertion_sort(A)"
   ]
  },
  {
   "cell_type": "code",
   "execution_count": 21,
   "id": "b07dc4e4",
   "metadata": {},
   "outputs": [],
   "source": [
    "#ok, lets try it with a while loop"
   ]
  },
  {
   "cell_type": "code",
   "execution_count": 22,
   "id": "8e3b3601",
   "metadata": {},
   "outputs": [],
   "source": [
    "def insertion_sort(A):\n",
    "    for i in range(1, len(A)):\n",
    "        j = i\n",
    "        while j > 0 and A[j] < A[j - 1]:\n",
    "            A[j], A[j - 1] = A[j - 1], A[j]\n",
    "            j -= 1\n",
    "    print(A)\n",
    "\n"
   ]
  },
  {
   "cell_type": "code",
   "execution_count": 23,
   "id": "5007d1c6",
   "metadata": {},
   "outputs": [
    {
     "name": "stdout",
     "output_type": "stream",
     "text": [
      "[0, 1, 3, 5, 7, 22, 44, 66, 83]\n"
     ]
    }
   ],
   "source": [
    "A = [22, 1, 3, 5, 7, 44, 66, 83, 0]\n",
    "insertion_sort(A)"
   ]
  },
  {
   "cell_type": "code",
   "execution_count": null,
   "id": "125d8e6a",
   "metadata": {},
   "outputs": [],
   "source": [
    "#done!!"
   ]
  }
 ],
 "metadata": {
  "kernelspec": {
   "display_name": "Python 3 (ipykernel)",
   "language": "python",
   "name": "python3"
  },
  "language_info": {
   "codemirror_mode": {
    "name": "ipython",
    "version": 3
   },
   "file_extension": ".py",
   "mimetype": "text/x-python",
   "name": "python",
   "nbconvert_exporter": "python",
   "pygments_lexer": "ipython3",
   "version": "3.10.9"
  }
 },
 "nbformat": 4,
 "nbformat_minor": 5
}
